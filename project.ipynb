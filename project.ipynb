{
 "cells": [
  {
   "cell_type": "code",
   "execution_count": null,
   "id": "2bbd3d49",
   "metadata": {},
   "outputs": [],
   "source": [
    "#Brief explaniation of the project and how AI tools were used\n",
    "import pandas as pd\n",
    "import matplotlib.pyplot as plt\n",
    "\n",
    "df = pd.read_csv(\"open-meteo-subset.csv\")\n",
    "df.head()\n"
   ]
  },
  {
   "cell_type": "code",
   "execution_count": null,
   "id": "5f4b88d6",
   "metadata": {},
   "outputs": [],
   "source": [
    "# Plotting some data\n",
    "df['temperature'].plot(title=\"Temperature over time\")\n",
    "plt.show()\n",
    "\n",
    "df.plot(title=\"All columns together\")\n",
    "plt.show()\n"
   ]
  },
  {
   "cell_type": "markdown",
   "id": "ae88185b",
   "metadata": {},
   "source": [
    "first I started with signin to a new Streamlit account, and due to my lack of technical skills I asked AI for help. After that I started with the project, tried to access the app.py where my app actully are, and tried to run it a couple of times. Again due to my lack of technical skills, I had to ask AI again. Though I only tried to run an app that was inside a DataAPP-folder, so afther my brilliant mindset I acctully made the application work. \n",
    "\n",
    "I used AI to help me build a short pseudocode of the application, and with the help of CoPilot it helps "
   ]
  }
 ],
 "metadata": {
  "kernelspec": {
   "display_name": "Python 3",
   "language": "python",
   "name": "python3"
  },
  "language_info": {
   "name": "python",
   "version": "3.13.1"
  }
 },
 "nbformat": 4,
 "nbformat_minor": 5
}
